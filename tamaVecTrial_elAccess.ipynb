{
 "cells": [
  {
   "cell_type": "code",
   "execution_count": 5,
   "metadata": {},
   "outputs": [
    {
     "name": "stderr",
     "output_type": "stream",
     "text": [
      "\u001b[32m\u001b[1m  Activating\u001b[22m\u001b[39m project at `/data/davide/Servizi cloud/Dropbox/Ferracin_PhD/TDVP_VecRho_Davide`\n"
     ]
    }
   ],
   "source": [
    "using Pkg\n",
    "Pkg.activate(\".\")\n",
    "Pkg.instantiate()"
   ]
  },
  {
   "cell_type": "code",
   "execution_count": 6,
   "metadata": {},
   "outputs": [
    {
     "data": {
      "text/plain": [
       "stretchBondDim (generic function with 1 method)"
      ]
     },
     "execution_count": 6,
     "metadata": {},
     "output_type": "execute_result"
    }
   ],
   "source": [
    "using DelimitedFiles\n",
    "using Permutations\n",
    "using TimeEvoVecMPS\n",
    "using VectorizedRho\n",
    "using ITensors\n",
    "include(\"TDVP_lib_VecRho.jl\")"
   ]
  },
  {
   "cell_type": "code",
   "execution_count": 7,
   "metadata": {},
   "outputs": [
    {
     "name": "stdout",
     "output_type": "stream",
     "text": [
      "OK\n"
     ]
    }
   ],
   "source": [
    "Nenv = 20;\n",
    "sys = siteind(\"HvS=1/2\");\n",
    "env = siteinds(\"HvOsc\",Nenv;dim=6);\n",
    "sysenv = vcat(sys,env);\n",
    "initSys = \"Up\";\n",
    "initEnv = \"0\";\n",
    "initSysEnv = vcat([initSys],[initEnv for i in 1:Nenv]);\n",
    "psi0 = productMPS(sysenv,initSysEnv);\n",
    "println(\"OK\")\n",
    "#...and we have the initial state...."
   ]
  },
  {
   "cell_type": "markdown",
   "metadata": {},
   "source": [
    "Extend the bond dimension (we are going to use TDVP1) and check overlap with the original factorized state."
   ]
  },
  {
   "cell_type": "code",
   "execution_count": 8,
   "metadata": {},
   "outputs": [
    {
     "data": {
      "text/plain": [
       "1.0000000000000007 + 0.0im"
      ]
     },
     "execution_count": 8,
     "metadata": {},
     "output_type": "execute_result"
    }
   ],
   "source": [
    "psi_ext,overlap = stretchBondDim(psi0,12);\n",
    "overlap"
   ]
  },
  {
   "cell_type": "markdown",
   "metadata": {},
   "source": [
    "An example of how measurements should be used when dealing with vectorized density matrices."
   ]
  },
  {
   "cell_type": "code",
   "execution_count": 24,
   "metadata": {},
   "outputs": [
    {
     "name": "stdout",
     "output_type": "stream",
     "text": [
      "123456789101112131415161718192021"
     ]
    },
    {
     "data": {
      "text/plain": [
       "1.0000000000000042 + 0.0im"
      ]
     },
     "execution_count": 24,
     "metadata": {},
     "output_type": "execute_result"
    }
   ],
   "source": [
    "V = ITensor(1.)\n",
    "for j in 1:21\n",
    "    print(j)\n",
    "    #V *= psi_ext[j]* (j!=2 ? state(\"vecId\",sysenv[j]) : state(\"vecId\",sysenv[j]))\n",
    "    V *= psi_ext[j] * state(\"vecId\",sysenv[j])\n",
    "end\n",
    "scalar(V)\n"
   ]
  },
  {
   "cell_type": "markdown",
   "metadata": {},
   "source": [
    "The function for the definition of the MPO associated to the full Lindblad evolution has been included in the TDVP_lib_VecRho.jl file"
   ]
  },
  {
   "cell_type": "code",
   "execution_count": 10,
   "metadata": {},
   "outputs": [
    {
     "name": "stdout",
     "output_type": "stream",
     "text": [
      "pmtx = (1)(2)(3)(4)(5)(6)\n",
      "80.70813909201401"
     ]
    }
   ],
   "source": [
    "#createMPO(sysenv, eps::Float64, delta::Float64, freqfile::String, coupfile::String,\n",
    "#MC_alphafile::String,MC_betafile::String,MC_coupfile::String,omega::Float64; kwargs...)\n",
    "appo = createMPOVecRho(sysenv,69.,0.,\n",
    "\"../TDVP/Chain_mappings/WSCP_MC_T0_freqs.dat\",\n",
    "\"../TDVP/Chain_mappings/WSCP_MC_T0_coups.dat\",\n",
    "\"../TDVP/MC_Pars/alphas_6.dat\",\n",
    "\"../TDVP/MC_Pars/betas_6.dat\",\n",
    "\"../TDVP/MC_Pars/coupls_6.dat\",500.);"
   ]
  },
  {
   "cell_type": "markdown",
   "metadata": {},
   "source": [
    "Just keep an eye on the MPO bond dimension. As is, it seems that there are larger bond dimensions in between the oscillators in the closure"
   ]
  },
  {
   "cell_type": "code",
   "execution_count": 11,
   "metadata": {},
   "outputs": [],
   "source": [
    "[dim(linkind(appo,j)) for j in 1:length(appo)-1];\n",
    "[dim(linkind(psi_ext,j)) for j in 1:length(psi_ext)-1];\n"
   ]
  },
  {
   "cell_type": "code",
   "execution_count": 12,
   "metadata": {},
   "outputs": [],
   "source": [
    "vobs = []\n",
    "push!(vobs, opPos(\"Norm\",1))\n",
    "push!(vobs,opPos(\"vecσx\",1))\n",
    "push!(vobs,opPos(\"vecσz\",1))\n",
    "nchain = collect(1:1:20)\n",
    "for i in nchain\n",
    "   push!(vobs,opPos(\"vecN\",i+1))\n",
    "end"
   ]
  },
  {
   "cell_type": "code",
   "execution_count": 13,
   "metadata": {},
   "outputs": [
    {
     "data": {
      "text/plain": [
       "LocalMeasurementCallback\n",
       "Operators: opPos[opPos(\"Norm\", 1), opPos(\"vecσx\", 1), opPos(\"vecσz\", 1), opPos(\"vecN\", 2), opPos(\"vecN\", 3), opPos(\"vecN\", 4), opPos(\"vecN\", 5), opPos(\"vecN\", 6), opPos(\"vecN\", 7), opPos(\"vecN\", 8)  …  opPos(\"vecN\", 12), opPos(\"vecN\", 13), opPos(\"vecN\", 14), opPos(\"vecN\", 15), opPos(\"vecN\", 16), opPos(\"vecN\", 17), opPos(\"vecN\", 18), opPos(\"vecN\", 19), opPos(\"vecN\", 20), opPos(\"vecN\", 21)]\n",
       "No measurements performed\n"
      ]
     },
     "execution_count": 13,
     "metadata": {},
     "output_type": "execute_result"
    }
   ],
   "source": [
    "psi=deepcopy(psi_ext)\n",
    "timestep = 0.0001\n",
    "tmax = 0.02\n",
    "cbT = LocalMeasurementCallbackTama(vobs,sysenv,timestep)"
   ]
  },
  {
   "cell_type": "code",
   "execution_count": 14,
   "metadata": {},
   "outputs": [],
   "source": [
    "tdvp1!(psi,appo,timestep,tmax, hermitian = false, normalize = false, callback=cbT, progress=false, krylovdim = 10, exp_tol = 10e-10, io_file=\"critico2mc.dat\",store_psi0 = true,io_ranks = \"ranghi2mc.dat\",io_times = \"times2mc.dat\")"
   ]
  },
  {
   "cell_type": "code",
   "execution_count": 15,
   "metadata": {},
   "outputs": [
    {
     "data": {
      "text/plain": [
       "0.15217446904547846 - 3.2293939507024908e-9im"
      ]
     },
     "execution_count": 15,
     "metadata": {},
     "output_type": "execute_result"
    }
   ],
   "source": [
    "dot(psi,psi0)"
   ]
  },
  {
   "cell_type": "code",
   "execution_count": 16,
   "metadata": {},
   "outputs": [
    {
     "data": {
      "text/plain": [
       "ITensor ord=0\n",
       "NDTensors.Dense{Float64, Vector{Float64}}"
      ]
     },
     "execution_count": 16,
     "metadata": {},
     "output_type": "execute_result"
    }
   ],
   "source": [
    "ITensor(1.)"
   ]
  },
  {
   "cell_type": "code",
   "execution_count": 17,
   "metadata": {},
   "outputs": [
    {
     "name": "stdout",
     "output_type": "stream",
     "text": [
      "state(\"vecId\", sysenv[1]) = ITensor ord=1\n",
      "Dim 1: (dim=4|id=23|\"HvS=1/2,Site\")\n",
      "NDTensors.Dense{ComplexF64, Vector{ComplexF64}}\n",
      " 4-element\n",
      "               0.0 + 0.0im\n",
      "               0.0 + 0.0im\n",
      "               0.0 + 0.0im\n",
      " 1.414213562373095 + 0.0im\n"
     ]
    },
    {
     "data": {
      "text/plain": [
       "ITensor ord=1 (dim=4|id=23|\"HvS=1/2,Site\")\n",
       "NDTensors.Dense{ComplexF64, Vector{ComplexF64}}"
      ]
     },
     "execution_count": 17,
     "metadata": {},
     "output_type": "execute_result"
    }
   ],
   "source": [
    "@show state(\"vecId\",sysenv[1])"
   ]
  },
  {
   "cell_type": "code",
   "execution_count": 18,
   "metadata": {},
   "outputs": [
    {
     "name": "stdout",
     "output_type": "stream",
     "text": [
      "123456789101112131415161718192021"
     ]
    },
    {
     "data": {
      "text/plain": [
       "-0.5222493485571591 - 5.682907025898845e-9im"
      ]
     },
     "execution_count": 18,
     "metadata": {},
     "output_type": "execute_result"
    }
   ],
   "source": [
    "V = ITensor(1.)\n",
    "for j in 1:21\n",
    "   print(j)\n",
    "   V *= psi[j]* (j!=1 ? state(\"vecId\",sysenv[j]) : state(\"vecσz\",sysenv[j]))\n",
    "end\n",
    "scalar(V)"
   ]
  },
  {
   "cell_type": "code",
   "execution_count": 19,
   "metadata": {},
   "outputs": [
    {
     "name": "stdout",
     "output_type": "stream",
     "text": [
      "psi[1] = ITensor ord=2\n",
      "Dim 1: (dim=4|id=620|\"Link,u\")\n",
      "Dim 2: (dim=4|id=23|\"HvS=1/2,Site\")\n",
      "NDTensors.Dense{ComplexF64, Vector{ComplexF64}}\n",
      " 4×4\n",
      "    0.5257677563818356 + 0.11022941444067924im     1.430368023670709e-7 - 7.002149527107022e-8im  -1.3547514120850946e-8 - 4.871935967233226e-8im    -0.5257677859817669 - 0.11022945051564277im\n",
      "  4.405809112228313e-8 - 6.810763312418823e-8im    -0.12092841159101252 + 0.34627607777291497im       0.1395188537677348 + 0.16915329083192113im   -6.749448616099215e-8 - 4.825094412093255e-9im\n",
      " -4.019607679755466e-8 + 3.511982988302459e-8im     0.21545558409055984 - 0.0407089985199687im       -0.1286537927114479 + 0.3434806576701637im    -5.534647446641072e-9 + 3.923401048452305e-8im\n",
      "  -0.15929887886794245 + 0.05858723500880515im   -4.0770210812353646e-8 - 1.57986749340376e-8im    1.3819272683773203e-8 - 5.013724040560859e-9im   -0.15929887127044726 + 0.058587222373162544im\n"
     ]
    },
    {
     "data": {
      "text/plain": [
       "ITensor ord=2 (dim=4|id=620|\"Link,u\") (dim=4|id=23|\"HvS=1/2,Site\")\n",
       "NDTensors.Dense{ComplexF64, Vector{ComplexF64}}"
      ]
     },
     "execution_count": 19,
     "metadata": {},
     "output_type": "execute_result"
    }
   ],
   "source": [
    "@show psi[1]"
   ]
  },
  {
   "cell_type": "code",
   "execution_count": 20,
   "metadata": {},
   "outputs": [
    {
     "name": "stdout",
     "output_type": "stream",
     "text": [
      "psi0[1] = ITensor ord=2\n",
      "Dim 1: (dim=4|id=23|\"HvS=1/2,Site\")\n",
      "Dim 2: (dim=1|id=465|\"Link,l=1\")\n",
      "NDTensors.Dense{ComplexF64, Vector{ComplexF64}}\n",
      " 4×1\n",
      " 0.7071067811865476 + 0.0im\n",
      "                0.0 + 0.0im\n",
      "                0.0 + 0.0im\n",
      " 0.7071067811865475 + 0.0im\n"
     ]
    },
    {
     "data": {
      "text/plain": [
       "ITensor ord=2 (dim=4|id=23|\"HvS=1/2,Site\") (dim=1|id=465|\"Link,l=1\")\n",
       "NDTensors.Dense{ComplexF64, Vector{ComplexF64}}"
      ]
     },
     "execution_count": 20,
     "metadata": {},
     "output_type": "execute_result"
    }
   ],
   "source": [
    "@show psi0[1]"
   ]
  },
  {
   "cell_type": "code",
   "execution_count": null,
   "metadata": {},
   "outputs": [],
   "source": []
  },
  {
   "cell_type": "code",
   "execution_count": null,
   "metadata": {},
   "outputs": [],
   "source": []
  },
  {
   "cell_type": "code",
   "execution_count": 21,
   "metadata": {},
   "outputs": [
    {
     "data": {
      "text/plain": [
       "0.9897591384705287 + 7.083778029450728e-9im"
      ]
     },
     "execution_count": 21,
     "metadata": {},
     "output_type": "execute_result"
    }
   ],
   "source": [
    "V = ITensor(1.)\n",
    "for j in 1:21\n",
    "   V *= psi[j]* (j!=2 ? state(\"vecId\",sysenv[j]) : state(\"vecId\",sysenv[j]))\n",
    "end\n",
    "scalar(V)\n"
   ]
  },
  {
   "cell_type": "code",
   "execution_count": null,
   "metadata": {},
   "outputs": [],
   "source": []
  }
 ],
 "metadata": {
  "kernelspec": {
   "display_name": "Julia 1.7.1",
   "language": "julia",
   "name": "julia-1.7"
  },
  "language_info": {
   "file_extension": ".jl",
   "mimetype": "application/julia",
   "name": "julia",
   "version": "1.8.4"
  }
 },
 "nbformat": 4,
 "nbformat_minor": 2
}
