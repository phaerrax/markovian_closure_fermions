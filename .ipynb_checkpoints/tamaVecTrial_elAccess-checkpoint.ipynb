{
 "cells": [
  {
   "cell_type": "code",
   "execution_count": 1,
   "metadata": {},
   "outputs": [
    {
     "name": "stderr",
     "output_type": "stream",
     "text": [
      "\u001b[32m\u001b[1m  Activating\u001b[22m\u001b[39m project at `/data/davide/Servizi cloud/Dropbox/Ferracin_PhD/TDVP_VecRho_Davide`\n"
     ]
    }
   ],
   "source": [
    "using Pkg\n",
    "Pkg.activate(\".\")"
   ]
  },
  {
   "cell_type": "code",
   "execution_count": 2,
   "metadata": {},
   "outputs": [
    {
     "ename": "LoadError",
     "evalue": "ArgumentError: Package Permutations not found in current path.\n- Run `import Pkg; Pkg.add(\"Permutations\")` to install the Permutations package.",
     "output_type": "error",
     "traceback": [
      "ArgumentError: Package Permutations not found in current path.\n- Run `import Pkg; Pkg.add(\"Permutations\")` to install the Permutations package.",
      "",
      "Stacktrace:",
      " [1] macro expansion",
      "   @ ./loading.jl:1163 [inlined]",
      " [2] macro expansion",
      "   @ ./lock.jl:223 [inlined]",
      " [3] require(into::Module, mod::Symbol)",
      "   @ Base ./loading.jl:1144"
     ]
    }
   ],
   "source": [
    "using DelimitedFiles\n",
    "using Permutations\n",
    "using TimeEvoVecMPS\n",
    "using VectorizedRho\n",
    "using ITensors\n",
    "include(\"TDVP_lib_vecRho.jl\")"
   ]
  },
  {
   "cell_type": "code",
   "execution_count": 3,
   "metadata": {},
   "outputs": [
    {
     "ename": "LoadError",
     "evalue": "UndefVarError: siteind not defined",
     "output_type": "error",
     "traceback": [
      "UndefVarError: siteind not defined",
      "",
      "Stacktrace:",
      " [1] top-level scope",
      "   @ In[3]:2"
     ]
    }
   ],
   "source": [
    "Nenv = 20;\n",
    "sys = siteind(\"HvS=1/2\");\n",
    "env = siteinds(\"HvOsc\",Nenv;dim=6);\n",
    "sysenv = vcat(sys,env);\n",
    "initSys = \"Up\";\n",
    "initEnv = \"0\";\n",
    "initSysEnv = vcat([initSys],[initEnv for i in 1:Nenv]);\n",
    "psi0 = productMPS(sysenv,initSysEnv);\n",
    "println(\"OK\")\n",
    "#...and we have the initial state...."
   ]
  },
  {
   "cell_type": "markdown",
   "metadata": {},
   "source": [
    "Extend the bond dimension (we are going to use TDVP1) and check overlap with the original factorized state."
   ]
  },
  {
   "cell_type": "code",
   "execution_count": 4,
   "metadata": {},
   "outputs": [
    {
     "ename": "LoadError",
     "evalue": "UndefVarError: stretchBondDim not defined",
     "output_type": "error",
     "traceback": [
      "UndefVarError: stretchBondDim not defined",
      "",
      "Stacktrace:",
      " [1] top-level scope",
      "   @ In[4]:1"
     ]
    }
   ],
   "source": [
    "psi_ext,overlap = stretchBondDim(psi0,12);\n",
    "overlap"
   ]
  },
  {
   "cell_type": "markdown",
   "metadata": {},
   "source": [
    "An example of how measurements should be used when dealing with vectorized density matrices."
   ]
  },
  {
   "cell_type": "code",
   "execution_count": 5,
   "metadata": {},
   "outputs": [
    {
     "ename": "LoadError",
     "evalue": "UndefVarError: ITensor not defined",
     "output_type": "error",
     "traceback": [
      "UndefVarError: ITensor not defined",
      "",
      "Stacktrace:",
      " [1] top-level scope",
      "   @ In[5]:1"
     ]
    }
   ],
   "source": [
    "V = ITensor(1.)\n",
    "for j in 1:21\n",
    "   print(j)\n",
    "   V *= psi_ext[j]* (j!=2 ? state(\"vecId\",sysenv[j]) : state(\"vecId\",sysenv[j]))\n",
    "end\n",
    "scalar(V)\n"
   ]
  },
  {
   "cell_type": "markdown",
   "metadata": {},
   "source": [
    "The function for the definition of the MPO associated to the full Lindblad evolution has been included in the TDVP_lib_VecRho.jl file"
   ]
  },
  {
   "cell_type": "code",
   "execution_count": 6,
   "metadata": {},
   "outputs": [
    {
     "ename": "LoadError",
     "evalue": "UndefVarError: createMPOVecRho not defined",
     "output_type": "error",
     "traceback": [
      "UndefVarError: createMPOVecRho not defined",
      "",
      "Stacktrace:",
      " [1] top-level scope",
      "   @ In[6]:3"
     ]
    }
   ],
   "source": [
    "#createMPO(sysenv, eps::Float64, delta::Float64, freqfile::String, coupfile::String,\n",
    "#MC_alphafile::String,MC_betafile::String,MC_coupfile::String,omega::Float64; kwargs...)\n",
    "appo = createMPOVecRho(sysenv,69.,0.,\n",
    "\"../TDVP/Chain_mappings/WSCP_MC_T0_freqs.dat\",\n",
    "\"../TDVP/Chain_mappings/WSCP_MC_T0_coups.dat\",\n",
    "\"../TDVP/MC_Pars/alphas_6.dat\",\n",
    "\"../TDVP/MC_Pars/betas_6.dat\",\n",
    "\"../TDVP/MC_Pars/coupls_6.dat\",500.);"
   ]
  },
  {
   "cell_type": "markdown",
   "metadata": {},
   "source": [
    "Just keep an eye on the MPO bond dimension. As is, it seems that there are larger bond dimensions in between the oscillators in the closure"
   ]
  },
  {
   "cell_type": "code",
   "execution_count": 7,
   "metadata": {},
   "outputs": [
    {
     "ename": "LoadError",
     "evalue": "UndefVarError: appo not defined",
     "output_type": "error",
     "traceback": [
      "UndefVarError: appo not defined",
      "",
      "Stacktrace:",
      " [1] top-level scope",
      "   @ In[7]:1"
     ]
    }
   ],
   "source": [
    "[dim(linkind(appo,j)) for j in 1:length(appo)-1];\n",
    "[dim(linkind(psi_ext,j)) for j in 1:length(psi_ext)-1];\n"
   ]
  },
  {
   "cell_type": "code",
   "execution_count": 8,
   "metadata": {},
   "outputs": [
    {
     "ename": "LoadError",
     "evalue": "UndefVarError: opPos not defined",
     "output_type": "error",
     "traceback": [
      "UndefVarError: opPos not defined",
      "",
      "Stacktrace:",
      " [1] top-level scope",
      "   @ In[8]:2"
     ]
    }
   ],
   "source": [
    "vobs = []\n",
    "push!(vobs, opPos(\"Norm\",1))\n",
    "push!(vobs,opPos(\"vecσx\",1))\n",
    "push!(vobs,opPos(\"vecσz\",1))\n",
    "nchain = collect(1:1:20)\n",
    "for i in nchain\n",
    "   push!(vobs,opPos(\"vecN\",i+1))\n",
    "end"
   ]
  },
  {
   "cell_type": "code",
   "execution_count": 9,
   "metadata": {},
   "outputs": [
    {
     "ename": "LoadError",
     "evalue": "UndefVarError: psi_ext not defined",
     "output_type": "error",
     "traceback": [
      "UndefVarError: psi_ext not defined",
      "",
      "Stacktrace:",
      " [1] top-level scope",
      "   @ In[9]:1"
     ]
    }
   ],
   "source": [
    "psi=deepcopy(psi_ext)\n",
    "timestep = 0.0001\n",
    "tmax = 0.02\n",
    "cbT = LocalMeasurementCallbackTama(vobs,sysenv,timestep)"
   ]
  },
  {
   "cell_type": "code",
   "execution_count": 10,
   "metadata": {},
   "outputs": [
    {
     "ename": "LoadError",
     "evalue": "UndefVarError: cbT not defined",
     "output_type": "error",
     "traceback": [
      "UndefVarError: cbT not defined",
      "",
      "Stacktrace:",
      " [1] top-level scope",
      "   @ In[10]:1"
     ]
    }
   ],
   "source": [
    "tdvp1!(psi,appo,timestep,tmax, hermitian = false, normalize = false, callback=cbT, progress=false, krylovdim = 10, exp_tol = 10e-10, io_file=\"critico2mc.dat\",store_psi0 = true,io_ranks = \"ranghi2mc.dat\",io_times = \"times2mc.dat\")"
   ]
  },
  {
   "cell_type": "code",
   "execution_count": 11,
   "metadata": {},
   "outputs": [
    {
     "ename": "LoadError",
     "evalue": "UndefVarError: dot not defined",
     "output_type": "error",
     "traceback": [
      "UndefVarError: dot not defined",
      "",
      "Stacktrace:",
      " [1] top-level scope",
      "   @ In[11]:1"
     ]
    }
   ],
   "source": [
    "dot(psi,psi0)"
   ]
  },
  {
   "cell_type": "code",
   "execution_count": 12,
   "metadata": {},
   "outputs": [
    {
     "ename": "LoadError",
     "evalue": "UndefVarError: ITensor not defined",
     "output_type": "error",
     "traceback": [
      "UndefVarError: ITensor not defined",
      "",
      "Stacktrace:",
      " [1] top-level scope",
      "   @ In[12]:1"
     ]
    }
   ],
   "source": [
    "ITensor(1.)"
   ]
  },
  {
   "cell_type": "code",
   "execution_count": 13,
   "metadata": {},
   "outputs": [
    {
     "ename": "LoadError",
     "evalue": "UndefVarError: sysenv not defined",
     "output_type": "error",
     "traceback": [
      "UndefVarError: sysenv not defined",
      "",
      "Stacktrace:",
      " [1] top-level scope",
      "   @ show.jl:1047"
     ]
    }
   ],
   "source": [
    "@show state(\"vecId\",sysenv[1])"
   ]
  },
  {
   "cell_type": "code",
   "execution_count": 14,
   "metadata": {},
   "outputs": [
    {
     "ename": "LoadError",
     "evalue": "UndefVarError: ITensor not defined",
     "output_type": "error",
     "traceback": [
      "UndefVarError: ITensor not defined",
      "",
      "Stacktrace:",
      " [1] top-level scope",
      "   @ In[14]:1"
     ]
    }
   ],
   "source": [
    "V = ITensor(1.)\n",
    "for j in 1:21\n",
    "   print(j)\n",
    "   V *= psi[j]* (j!=1 ? state(\"vecId\",sysenv[j]) : state(\"vecσz\",sysenv[j]))\n",
    "end\n",
    "scalar(V)"
   ]
  },
  {
   "cell_type": "code",
   "execution_count": 15,
   "metadata": {},
   "outputs": [
    {
     "ename": "LoadError",
     "evalue": "UndefVarError: psi not defined",
     "output_type": "error",
     "traceback": [
      "UndefVarError: psi not defined",
      "",
      "Stacktrace:",
      " [1] top-level scope",
      "   @ show.jl:1047"
     ]
    }
   ],
   "source": [
    "@show psi[1]"
   ]
  },
  {
   "cell_type": "code",
   "execution_count": 16,
   "metadata": {},
   "outputs": [
    {
     "ename": "LoadError",
     "evalue": "UndefVarError: psi0 not defined",
     "output_type": "error",
     "traceback": [
      "UndefVarError: psi0 not defined",
      "",
      "Stacktrace:",
      " [1] top-level scope",
      "   @ show.jl:1047"
     ]
    }
   ],
   "source": [
    "@show psi0[1]"
   ]
  },
  {
   "cell_type": "code",
   "execution_count": null,
   "metadata": {},
   "outputs": [],
   "source": []
  },
  {
   "cell_type": "code",
   "execution_count": null,
   "metadata": {},
   "outputs": [],
   "source": []
  },
  {
   "cell_type": "code",
   "execution_count": 17,
   "metadata": {},
   "outputs": [
    {
     "ename": "LoadError",
     "evalue": "UndefVarError: ITensor not defined",
     "output_type": "error",
     "traceback": [
      "UndefVarError: ITensor not defined",
      "",
      "Stacktrace:",
      " [1] top-level scope",
      "   @ In[17]:1"
     ]
    }
   ],
   "source": [
    "V = ITensor(1.)\n",
    "for j in 1:21\n",
    "   V *= psi[j]* (j!=2 ? state(\"vecId\",sysenv[j]) : state(\"vecId\",sysenv[j]))\n",
    "end\n",
    "scalar(V)\n"
   ]
  },
  {
   "cell_type": "code",
   "execution_count": null,
   "metadata": {},
   "outputs": [],
   "source": []
  }
 ],
 "metadata": {
  "kernelspec": {
   "display_name": "Julia 1.7.1",
   "language": "julia",
   "name": "julia-1.7"
  },
  "language_info": {
   "file_extension": ".jl",
   "mimetype": "application/julia",
   "name": "julia",
   "version": "1.8.4"
  }
 },
 "nbformat": 4,
 "nbformat_minor": 2
}
