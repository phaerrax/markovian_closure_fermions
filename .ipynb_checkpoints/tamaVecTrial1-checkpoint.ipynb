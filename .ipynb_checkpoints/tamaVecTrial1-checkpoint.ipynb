{
 "cells": [
  {
   "cell_type": "code",
   "execution_count": 1,
   "metadata": {},
   "outputs": [],
   "source": [
    "using DelimitedFiles\n",
    "using Permutations"
   ]
  },
  {
   "cell_type": "code",
   "execution_count": 2,
   "metadata": {},
   "outputs": [
    {
     "data": {
      "text/plain": [
       "\"/data/davide/Servizi cloud/Dropbox/Ferracin_PhD/TDVP_VecRho_Davide/lib\""
      ]
     },
     "execution_count": 2,
     "metadata": {},
     "output_type": "execute_result"
    }
   ],
   "source": [
    "baseDir = Base.source_dir()\n",
    "libPath = baseDir*\"/lib\""
   ]
  },
  {
   "cell_type": "code",
   "execution_count": 3,
   "metadata": {},
   "outputs": [
    {
     "data": {
      "text/plain": [
       "parse_spin_state (generic function with 1 method)"
      ]
     },
     "execution_count": 3,
     "metadata": {},
     "output_type": "execute_result"
    }
   ],
   "source": [
    "include(libPath*\"/utils.jl\")\n",
    "include(libPath*\"/harmonic_oscillator_space.jl\")\n",
    "include(libPath*\"/spin_chain_space.jl\")"
   ]
  },
  {
   "cell_type": "code",
   "execution_count": 4,
   "metadata": {},
   "outputs": [
    {
     "name": "stdout",
     "output_type": "stream",
     "text": [
      "OK\n"
     ]
    }
   ],
   "source": [
    "Nenv = 20;\n",
    "sys = siteind(\"HvS=1/2\");\n",
    "env = siteinds(\"HvOsc\",Nenv;dim=6);\n",
    "sysenv = vcat(sys,env);\n",
    "initSys = \"Up\";\n",
    "initEnv = \"0\";\n",
    "initSysEnv = vcat([initSys],[initEnv for i in 1:Nenv]);\n",
    "psi0 = productMPS(sysenv,initSysEnv);\n",
    "println(\"OK\")\n",
    "#...and we have the initial state...."
   ]
  },
  {
   "cell_type": "code",
   "execution_count": 5,
   "metadata": {},
   "outputs": [
    {
     "name": "stdout",
     "output_type": "stream",
     "text": [
      "psi0[3] = ITensor ord=3\n",
      "Dim 1: (dim=1|id=645|\"Link,l=2\")\n",
      "Dim 2: (dim=36|id=897|\"HvOsc,Site,n=2\")\n",
      "Dim 3: (dim=1|id=483|\"Link,l=3\")\n",
      "NDTensors.Dense{ComplexF64, Vector{ComplexF64}}\n",
      " 1×36×1\n",
      "[:, :, 1] =\n",
      " 0.7071067811865476 + 0.0im  0.0 + 0.0im  0.0 + 0.0im  0.0 + 0.0im  0.0 + 0.0im  0.0 + 0.0im  0.0 + 0.0im  0.408248290463863 + 0.0im  0.0 + 0.0im  0.0 + 0.0im  0.0 + 0.0im  0.0 + 0.0im  0.0 + 0.0im  0.0 + 0.0im  0.28867513459481287 + 0.0im  0.0 + 0.0im  0.0 + 0.0im  0.0 + 0.0im  0.0 + 0.0im  0.0 + 0.0im  0.0 + 0.0im  0.22360679774997896 + 0.0im  0.0 + 0.0im  0.0 + 0.0im  0.0 + 0.0im  0.0 + 0.0im  0.0 + 0.0im  0.0 + 0.0im  0.18257418583505536 + 0.0im  0.0 + 0.0im  0.0 + 0.0im  0.0 + 0.0im  0.0 + 0.0im  0.0 + 0.0im  0.0 + 0.0im  0.4082482904638631 + 0.0im\n"
     ]
    },
    {
     "data": {
      "text/plain": [
       "ITensor ord=3 (dim=1|id=645|\"Link,l=2\") (dim=36|id=897|\"HvOsc,Site,n=2\") (dim=1|id=483|\"Link,l=3\")\n",
       "NDTensors.Dense{ComplexF64, Vector{ComplexF64}}"
      ]
     },
     "execution_count": 5,
     "metadata": {},
     "output_type": "execute_result"
    }
   ],
   "source": [
    "@show psi0[3]"
   ]
  },
  {
   "cell_type": "code",
   "execution_count": 6,
   "metadata": {},
   "outputs": [],
   "source": [
    "#Check initial state\n",
    "#@show state(sysenv[1],\"Up\")*state(sysenv[1],\"vecσz\")"
   ]
  },
  {
   "cell_type": "code",
   "execution_count": 7,
   "metadata": {},
   "outputs": [],
   "source": [
    "# pop = op(\"σx⋅\",sys)\n",
    "# idx = inds(op(\"σx⋅\",sys))\n",
    "# splussx = Array(pop,idx...)\n",
    "\n",
    "# pop = op(\"⋅σx\",sys)\n",
    "# idx = inds(op(\"σx⋅\",sys))\n",
    "# splusdx = Array(pop,idx...)\n",
    "# real(splussx) == real(splusdx')"
   ]
  },
  {
   "cell_type": "code",
   "execution_count": 8,
   "metadata": {},
   "outputs": [
    {
     "data": {
      "text/plain": [
       "createMPO (generic function with 1 method)"
      ]
     },
     "execution_count": 8,
     "metadata": {},
     "output_type": "execute_result"
    }
   ],
   "source": [
    "function createMPO(sysenv, eps::Float64, delta::Float64, freqfile::String, coupfile::String,\n",
    "   MC_alphafile::String,MC_betafile::String,MC_coupfile::String,omega::Float64; kwargs...)\n",
    "\n",
    "   #perm:  permutation of the closure oscillators\n",
    "   perm = get(kwargs,:perm,nothing)\n",
    "\n",
    "   #Chain parameters\n",
    "   coups = readdlm(coupfile);\n",
    "   freqs = readdlm(freqfile);\n",
    "   \n",
    "   #Closure parameters loaded from file\n",
    "   alphas_MC = readdlm(MC_alphafile);\n",
    "   betas_MC = readdlm(MC_betafile);\n",
    "   coups_MC = readdlm(MC_coupfile);\n",
    "   gammas = omega * alphas_MC[:,1];\n",
    "   eff_freqs = [omega + 0. for g in gammas];\n",
    "   eff_gs = omega * betas_MC[:,2];\n",
    "   eff_coups = omega/2* (coups_MC[:,1]+ 1im *coups_MC[:,2]);\n",
    "\n",
    "   NN = length(sysenv);\n",
    "   MC_N = length(gammas);\n",
    "   NP_Chain = NN-MC_N;\n",
    "   \n",
    "   if(perm != nothing)\n",
    "      \n",
    "      if(length(perm)!= MC_N)\n",
    "         println(\"The provided permutation is not correct\")\n",
    "      end\n",
    "\n",
    "      pmtx=Permutation(perm)\n",
    "      @show pmtx\n",
    "   else\n",
    "      #Identity permutation\n",
    "      pmtx=Permutation(collect(1:MC_N))\n",
    "      @show pmtx\n",
    "   end\n",
    "\n",
    "   #Lavoriamo qui\n",
    "   thempo = OpSum();\n",
    "   #system Hamiltonian\n",
    "   #pay attention to constants vecσ_x/z/v =  σ_x/y/z\n",
    "\n",
    "   #We start by the von Neumann part\n",
    "   #-i[H,ρ] = -i H ρ + i ρ H\n",
    "   #Left action\n",
    "   thempo += -1im * eps,\"σz⋅\",1;\n",
    "   thempo += -1im * delta,\"σx⋅\",1;\n",
    "   \n",
    "   #Right action\n",
    "   thempo += +1im * eps,\"⋅σz\",1;\n",
    "   thempo += +1im * delta,\"⋅σx\",1;\n",
    "   \n",
    "   #system-env interaction\n",
    "   #!vecσx = σx\n",
    "   #Left action\n",
    "   thempo += -1im * coups[1],\"σx⋅\",1,\"a+⋅\",2\n",
    "   thempo += -1im * coups[1],\"σx⋅\",1,\"a-⋅\",2\n",
    "   #Right action\n",
    "   thempo += +1im * coups[1],\"⋅σx\",1,\"⋅a+\",2\n",
    "   thempo += +1im * coups[1],\"⋅σx\",1,\"⋅a-\",2\n",
    "\n",
    "   #Primary chain local Hamiltonians\n",
    "   for j=2:NP_Chain\n",
    "      thempo += -1im * freqs[j-1],\"N⋅\",j\n",
    "      thempo += +1im * freqs[j-1],\"⋅N\",j\n",
    "   end\n",
    "\n",
    "   for j=2:NP_Chain-1\n",
    "      thempo += -1im * coups[j],\"a-⋅\",j,\"a+⋅\",j+1\n",
    "      thempo += -1im * coups[j],\"a+⋅\",j,\"a-⋅\",j+1\n",
    "\n",
    "      thempo += +1im * coups[j],\"⋅a-\",j,\"⋅a+\",j+1\n",
    "      thempo += +1im * coups[j],\"⋅a+\",j,\"⋅a-\",j+1\n",
    "\n",
    "   end\n",
    "   #################################\n",
    "\n",
    "   #Markovian closure Hamiltonian\n",
    "   for j=1:MC_N\n",
    "      thempo += -1im * eff_freqs[j],\"N⋅\",NP_Chain+pmtx(j)\n",
    "      thempo += +1im * eff_freqs[j],\"⋅N\",NP_Chain+pmtx(j)\n",
    "   end\n",
    "\n",
    "   for j=1:MC_N-1\n",
    "      thempo += -1im * eff_gs[j],\"a-⋅\",NP_Chain+pmtx(j),\"a+⋅\",NP_Chain+pmtx(j+1)\n",
    "      thempo += -1im * eff_gs[j],\"a+⋅\",NP_Chain+pmtx(j),\"a-⋅\",NP_Chain+pmtx(j+1)\n",
    "      \n",
    "      thempo += +1im * eff_gs[j],\"⋅a-\",NP_Chain+pmtx(j),\"⋅a+\",NP_Chain+pmtx(j+1)\n",
    "      thempo += +1im * eff_gs[j],\"⋅a+\",NP_Chain+pmtx(j),\"⋅a-\",NP_Chain+pmtx(j+1)\n",
    "   end\n",
    "\n",
    "   #################################\n",
    "\n",
    "   #Primary chain - MC interaction\n",
    "   for j=1:MC_N\n",
    "      thempo += -1im * eff_coups[j],\"a-⋅\",NP_Chain,\"a+⋅\",NP_Chain+pmtx(j)\n",
    "      thempo += -1im * conj(eff_coups[j]),\"a+⋅\",NP_Chain,\"a-⋅\",NP_Chain+pmtx(j)\n",
    "\n",
    "      thempo += +1im * eff_coups[j],\"⋅a-\",NP_Chain,\"⋅a+\",NP_Chain+pmtx(j)\n",
    "      thempo += +1im * conj(eff_coups[j]),\"⋅a+\",NP_Chain,\"⋅a-\",NP_Chain+pmtx(j)\n",
    "   end\n",
    "   #################################\n",
    "\n",
    "   #Lindblad terms\n",
    "   #occhio al valore di gamma...\n",
    "   for j=1:MC_N\n",
    "      thempo += 2*gammas[j],\"Lindb+\",NP_Chain+pmtx(j)\n",
    "   end\n",
    "   #################################\n",
    "\n",
    "   return MPO(thempo,sysenv);\n",
    "end"
   ]
  },
  {
   "cell_type": "code",
   "execution_count": 14,
   "metadata": {},
   "outputs": [
    {
     "ename": "LoadError",
     "evalue": "UndefVarError: createMPOVecRho not defined",
     "output_type": "error",
     "traceback": [
      "UndefVarError: createMPOVecRho not defined",
      "",
      "Stacktrace:",
      " [1] top-level scope",
      "   @ In[14]:3"
     ]
    }
   ],
   "source": [
    "#createMPO(sysenv, eps::Float64, delta::Float64, freqfile::String, coupfile::String,\n",
    "#MC_alphafile::String,MC_betafile::String,MC_coupfile::String,omega::Float64; kwargs...)\n",
    "appo = createMPOVecRho(sysenv,69.,0.,\n",
    "\"../TDVP/Chain_mappings/WSCP_MC_T0_freqs.dat\",\n",
    "\"../TDVP/Chain_mappings/WSCP_MC_T0_coups.dat\",\n",
    "\"../TDVP/MC_Pars/alphas_6.dat\",\n",
    "\"../TDVP/MC_Pars/betas_6.dat\",\n",
    "\"../TDVP/MC_Pars/coupls_6.dat\",500.);"
   ]
  },
  {
   "cell_type": "code",
   "execution_count": 10,
   "metadata": {},
   "outputs": [
    {
     "ename": "LoadError",
     "evalue": "UndefVarError: appo not defined",
     "output_type": "error",
     "traceback": [
      "UndefVarError: appo not defined",
      "",
      "Stacktrace:",
      " [1] top-level scope",
      "   @ In[10]:1"
     ]
    }
   ],
   "source": [
    "[dim(linkind(appo,j)) for j in 1:length(appo)-1];"
   ]
  },
  {
   "cell_type": "code",
   "execution_count": 11,
   "metadata": {},
   "outputs": [
    {
     "data": {
      "text/plain": [
       "ITensor ord=1 (dim=36|id=82|\"HvOsc,Site,n=1\")\n",
       "NDTensors.Dense{ComplexF64, Vector{ComplexF64}}"
      ]
     },
     "execution_count": 11,
     "metadata": {},
     "output_type": "execute_result"
    }
   ],
   "source": [
    "state(\"vecX\",sysenv[2])"
   ]
  },
  {
   "cell_type": "code",
   "execution_count": 12,
   "metadata": {},
   "outputs": [
    {
     "data": {
      "text/plain": [
       "ITensor ord=3 (dim=1|id=938|\"Link,l=1\") (dim=36|id=82|\"HvOsc,Site,n=1\") (dim=1|id=645|\"Link,l=2\")\n",
       "NDTensors.Dense{ComplexF64, Vector{ComplexF64}}"
      ]
     },
     "execution_count": 12,
     "metadata": {},
     "output_type": "execute_result"
    }
   ],
   "source": [
    "psi0[2]"
   ]
  },
  {
   "cell_type": "code",
   "execution_count": null,
   "metadata": {},
   "outputs": [],
   "source": []
  },
  {
   "cell_type": "code",
   "execution_count": 13,
   "metadata": {},
   "outputs": [
    {
     "ename": "LoadError",
     "evalue": "UndefVarError: sites not defined",
     "output_type": "error",
     "traceback": [
      "UndefVarError: sites not defined",
      "",
      "Stacktrace:",
      " [1] top-level scope",
      "   @ In[13]:1"
     ]
    }
   ],
   "source": [
    "dot(psi0[1], noprime(op(sites(cb),o.op,o.pos)*wf))"
   ]
  }
 ],
 "metadata": {
  "kernelspec": {
   "display_name": "Julia 1.7.1",
   "language": "julia",
   "name": "julia-1.7"
  },
  "language_info": {
   "file_extension": ".jl",
   "mimetype": "application/julia",
   "name": "julia",
   "version": "1.8.4"
  }
 },
 "nbformat": 4,
 "nbformat_minor": 2
}
